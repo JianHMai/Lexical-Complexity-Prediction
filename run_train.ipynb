{
 "cells": [
  {
   "cell_type": "code",
   "execution_count": 1,
   "id": "02c95f25",
   "metadata": {
    "colab": {
     "base_uri": "https://localhost:8080/"
    },
    "executionInfo": {
     "elapsed": 17165,
     "status": "ok",
     "timestamp": 1671604665769,
     "user": {
      "displayName": "Jian",
      "userId": "10618125268822252053"
     },
     "user_tz": 300
    },
    "id": "02c95f25",
    "outputId": "a74aa9d6-44e8-40ef-caaf-5ddbf7ab1efc"
   },
   "outputs": [
    {
     "name": "stdout",
     "output_type": "stream",
     "text": [
      "Looking in indexes: https://pypi.org/simple, https://us-python.pkg.dev/colab-wheels/public/simple/\n",
      "Requirement already satisfied: transformers in /usr/local/lib/python3.8/dist-packages (4.25.1)\n",
      "Requirement already satisfied: packaging>=20.0 in /usr/local/lib/python3.8/dist-packages (from transformers) (21.3)\n",
      "Requirement already satisfied: regex!=2019.12.17 in /usr/local/lib/python3.8/dist-packages (from transformers) (2022.6.2)\n",
      "Requirement already satisfied: tqdm>=4.27 in /usr/local/lib/python3.8/dist-packages (from transformers) (4.64.1)\n",
      "Requirement already satisfied: pyyaml>=5.1 in /usr/local/lib/python3.8/dist-packages (from transformers) (6.0)\n",
      "Requirement already satisfied: filelock in /usr/local/lib/python3.8/dist-packages (from transformers) (3.8.2)\n",
      "Requirement already satisfied: huggingface-hub<1.0,>=0.10.0 in /usr/local/lib/python3.8/dist-packages (from transformers) (0.11.1)\n",
      "Requirement already satisfied: tokenizers!=0.11.3,<0.14,>=0.11.1 in /usr/local/lib/python3.8/dist-packages (from transformers) (0.13.2)\n",
      "Requirement already satisfied: numpy>=1.17 in /usr/local/lib/python3.8/dist-packages (from transformers) (1.21.6)\n",
      "Requirement already satisfied: requests in /usr/local/lib/python3.8/dist-packages (from transformers) (2.23.0)\n",
      "Requirement already satisfied: typing-extensions>=3.7.4.3 in /usr/local/lib/python3.8/dist-packages (from huggingface-hub<1.0,>=0.10.0->transformers) (4.4.0)\n",
      "Requirement already satisfied: pyparsing!=3.0.5,>=2.0.2 in /usr/local/lib/python3.8/dist-packages (from packaging>=20.0->transformers) (3.0.9)\n",
      "Requirement already satisfied: idna<3,>=2.5 in /usr/local/lib/python3.8/dist-packages (from requests->transformers) (2.10)\n",
      "Requirement already satisfied: urllib3!=1.25.0,!=1.25.1,<1.26,>=1.21.1 in /usr/local/lib/python3.8/dist-packages (from requests->transformers) (1.24.3)\n",
      "Requirement already satisfied: chardet<4,>=3.0.2 in /usr/local/lib/python3.8/dist-packages (from requests->transformers) (3.0.4)\n",
      "Requirement already satisfied: certifi>=2017.4.17 in /usr/local/lib/python3.8/dist-packages (from requests->transformers) (2022.12.7)\n",
      "Looking in indexes: https://pypi.org/simple, https://us-python.pkg.dev/colab-wheels/public/simple/\n",
      "Requirement already satisfied: torchinfo in /usr/local/lib/python3.8/dist-packages (1.7.1)\n"
     ]
    }
   ],
   "source": [
    "import pandas as pd\n",
    "import csv\n",
    "import numpy as np\n",
    "import re\n",
    "!pip install transformers\n",
    "!pip install torchinfo\n",
    "from transformers import AutoTokenizer\n",
    "from torch.optim import AdamW\n",
    "from transformers import BertConfig, BertModel\n",
    "from torch import nn\n",
    "import torch\n",
    "import math\n",
    "from torch.utils.data import TensorDataset, DataLoader\n",
    "from transformers import get_linear_schedule_with_warmup\n",
    "from torchinfo import summary\n",
    "from matplotlib import pyplot as plt\n",
    "import os"
   ]
  },
  {
   "cell_type": "markdown",
   "id": "6c14202e",
   "metadata": {
    "id": "6c14202e"
   },
   "source": [
    "### Preprocessing"
   ]
  },
  {
   "cell_type": "code",
   "execution_count": 2,
   "id": "680b2f51",
   "metadata": {
    "executionInfo": {
     "elapsed": 378,
     "status": "ok",
     "timestamp": 1671604666145,
     "user": {
      "displayName": "Jian",
      "userId": "10618125268822252053"
     },
     "user_tz": 300
    },
    "id": "680b2f51"
   },
   "outputs": [],
   "source": [
    "# Read training file\n",
    "df = pd.read_csv(\"https://raw.githubusercontent.com/MMU-TDMLab/CompLex/master/train/lcp_single_train.tsv\",\n",
    "                 delimiter=\"\\t\", quoting=csv.QUOTE_NONE, encoding='utf-8')\n",
    "df = df.replace(np.nan, 'null')\n",
    "df = df.sample(frac=1).reset_index(drop=True)\n",
    "\n",
    "# Remove columns ID and Corpus\n",
    "df = df[['sentence', 'token', 'complexity']]\n",
    "\n",
    "# Lowercase sentence and token column in dataframe\n",
    "df['token'] = df['token'].str.lower() \n",
    "df['sentence'] = df['sentence'].str.lower()\n",
    "\n",
    "# Convert columns to list\n",
    "sentences = df['sentence'].tolist()\n",
    "tokens = df['token'].tolist()\n",
    "complexities = df['complexity'].tolist()"
   ]
  },
  {
   "cell_type": "code",
   "execution_count": 3,
   "id": "9da6ca2c",
   "metadata": {
    "colab": {
     "base_uri": "https://localhost:8080/",
     "height": 424
    },
    "executionInfo": {
     "elapsed": 785,
     "status": "ok",
     "timestamp": 1671604666929,
     "user": {
      "displayName": "Jian",
      "userId": "10618125268822252053"
     },
     "user_tz": 300
    },
    "id": "9da6ca2c",
    "outputId": "d6a3e3c5-be4f-48bf-e8d1-ec3cfc3ff55b"
   },
   "outputs": [
    {
     "data": {
      "text/html": [
       "\n",
       "  <div id=\"df-e13214f7-6ff8-4e3b-8289-cf8941c1919e\">\n",
       "    <div class=\"colab-df-container\">\n",
       "      <div>\n",
       "<style scoped>\n",
       "    .dataframe tbody tr th:only-of-type {\n",
       "        vertical-align: middle;\n",
       "    }\n",
       "\n",
       "    .dataframe tbody tr th {\n",
       "        vertical-align: top;\n",
       "    }\n",
       "\n",
       "    .dataframe thead th {\n",
       "        text-align: right;\n",
       "    }\n",
       "</style>\n",
       "<table border=\"1\" class=\"dataframe\">\n",
       "  <thead>\n",
       "    <tr style=\"text-align: right;\">\n",
       "      <th></th>\n",
       "      <th>sentence</th>\n",
       "      <th>token</th>\n",
       "      <th>complexity</th>\n",
       "    </tr>\n",
       "  </thead>\n",
       "  <tbody>\n",
       "    <tr>\n",
       "      <th>0</th>\n",
       "      <td>these include signs of neurologic dysfunction ...</td>\n",
       "      <td>difficulties</td>\n",
       "      <td>0.138889</td>\n",
       "    </tr>\n",
       "    <tr>\n",
       "      <th>1</th>\n",
       "      <td>the lord is not slow concerning his promise, a...</td>\n",
       "      <td>slowness</td>\n",
       "      <td>0.303571</td>\n",
       "    </tr>\n",
       "    <tr>\n",
       "      <th>2</th>\n",
       "      <td>you will be handed over even by parents, broth...</td>\n",
       "      <td>parents</td>\n",
       "      <td>0.078125</td>\n",
       "    </tr>\n",
       "    <tr>\n",
       "      <th>3</th>\n",
       "      <td>sheshan gave his daughter to jarha his servant...</td>\n",
       "      <td>wife</td>\n",
       "      <td>0.264706</td>\n",
       "    </tr>\n",
       "    <tr>\n",
       "      <th>4</th>\n",
       "      <td>you sons of men, how long shall my glory be tu...</td>\n",
       "      <td>dishonor</td>\n",
       "      <td>0.250000</td>\n",
       "    </tr>\n",
       "    <tr>\n",
       "      <th>...</th>\n",
       "      <td>...</td>\n",
       "      <td>...</td>\n",
       "      <td>...</td>\n",
       "    </tr>\n",
       "    <tr>\n",
       "      <th>7657</th>\n",
       "      <td>is it any pleasure to the almighty, that you a...</td>\n",
       "      <td>almighty</td>\n",
       "      <td>0.235294</td>\n",
       "    </tr>\n",
       "    <tr>\n",
       "      <th>7658</th>\n",
       "      <td>very important lessons have been drawn from cr...</td>\n",
       "      <td>solutions</td>\n",
       "      <td>0.285714</td>\n",
       "    </tr>\n",
       "    <tr>\n",
       "      <th>7659</th>\n",
       "      <td>firstly, we are concerned about the implicatio...</td>\n",
       "      <td>party</td>\n",
       "      <td>0.214286</td>\n",
       "    </tr>\n",
       "    <tr>\n",
       "      <th>7660</th>\n",
       "      <td>this region contains several genes, including ...</td>\n",
       "      <td>causation</td>\n",
       "      <td>0.593750</td>\n",
       "    </tr>\n",
       "    <tr>\n",
       "      <th>7661</th>\n",
       "      <td>this also comes forth from yahweh of armies, w...</td>\n",
       "      <td>counsel</td>\n",
       "      <td>0.367647</td>\n",
       "    </tr>\n",
       "  </tbody>\n",
       "</table>\n",
       "<p>7662 rows × 3 columns</p>\n",
       "</div>\n",
       "      <button class=\"colab-df-convert\" onclick=\"convertToInteractive('df-e13214f7-6ff8-4e3b-8289-cf8941c1919e')\"\n",
       "              title=\"Convert this dataframe to an interactive table.\"\n",
       "              style=\"display:none;\">\n",
       "        \n",
       "  <svg xmlns=\"http://www.w3.org/2000/svg\" height=\"24px\"viewBox=\"0 0 24 24\"\n",
       "       width=\"24px\">\n",
       "    <path d=\"M0 0h24v24H0V0z\" fill=\"none\"/>\n",
       "    <path d=\"M18.56 5.44l.94 2.06.94-2.06 2.06-.94-2.06-.94-.94-2.06-.94 2.06-2.06.94zm-11 1L8.5 8.5l.94-2.06 2.06-.94-2.06-.94L8.5 2.5l-.94 2.06-2.06.94zm10 10l.94 2.06.94-2.06 2.06-.94-2.06-.94-.94-2.06-.94 2.06-2.06.94z\"/><path d=\"M17.41 7.96l-1.37-1.37c-.4-.4-.92-.59-1.43-.59-.52 0-1.04.2-1.43.59L10.3 9.45l-7.72 7.72c-.78.78-.78 2.05 0 2.83L4 21.41c.39.39.9.59 1.41.59.51 0 1.02-.2 1.41-.59l7.78-7.78 2.81-2.81c.8-.78.8-2.07 0-2.86zM5.41 20L4 18.59l7.72-7.72 1.47 1.35L5.41 20z\"/>\n",
       "  </svg>\n",
       "      </button>\n",
       "      \n",
       "  <style>\n",
       "    .colab-df-container {\n",
       "      display:flex;\n",
       "      flex-wrap:wrap;\n",
       "      gap: 12px;\n",
       "    }\n",
       "\n",
       "    .colab-df-convert {\n",
       "      background-color: #E8F0FE;\n",
       "      border: none;\n",
       "      border-radius: 50%;\n",
       "      cursor: pointer;\n",
       "      display: none;\n",
       "      fill: #1967D2;\n",
       "      height: 32px;\n",
       "      padding: 0 0 0 0;\n",
       "      width: 32px;\n",
       "    }\n",
       "\n",
       "    .colab-df-convert:hover {\n",
       "      background-color: #E2EBFA;\n",
       "      box-shadow: 0px 1px 2px rgba(60, 64, 67, 0.3), 0px 1px 3px 1px rgba(60, 64, 67, 0.15);\n",
       "      fill: #174EA6;\n",
       "    }\n",
       "\n",
       "    [theme=dark] .colab-df-convert {\n",
       "      background-color: #3B4455;\n",
       "      fill: #D2E3FC;\n",
       "    }\n",
       "\n",
       "    [theme=dark] .colab-df-convert:hover {\n",
       "      background-color: #434B5C;\n",
       "      box-shadow: 0px 1px 3px 1px rgba(0, 0, 0, 0.15);\n",
       "      filter: drop-shadow(0px 1px 2px rgba(0, 0, 0, 0.3));\n",
       "      fill: #FFFFFF;\n",
       "    }\n",
       "  </style>\n",
       "\n",
       "      <script>\n",
       "        const buttonEl =\n",
       "          document.querySelector('#df-e13214f7-6ff8-4e3b-8289-cf8941c1919e button.colab-df-convert');\n",
       "        buttonEl.style.display =\n",
       "          google.colab.kernel.accessAllowed ? 'block' : 'none';\n",
       "\n",
       "        async function convertToInteractive(key) {\n",
       "          const element = document.querySelector('#df-e13214f7-6ff8-4e3b-8289-cf8941c1919e');\n",
       "          const dataTable =\n",
       "            await google.colab.kernel.invokeFunction('convertToInteractive',\n",
       "                                                     [key], {});\n",
       "          if (!dataTable) return;\n",
       "\n",
       "          const docLinkHtml = 'Like what you see? Visit the ' +\n",
       "            '<a target=\"_blank\" href=https://colab.research.google.com/notebooks/data_table.ipynb>data table notebook</a>'\n",
       "            + ' to learn more about interactive tables.';\n",
       "          element.innerHTML = '';\n",
       "          dataTable['output_type'] = 'display_data';\n",
       "          await google.colab.output.renderOutput(dataTable, element);\n",
       "          const docLink = document.createElement('div');\n",
       "          docLink.innerHTML = docLinkHtml;\n",
       "          element.appendChild(docLink);\n",
       "        }\n",
       "      </script>\n",
       "    </div>\n",
       "  </div>\n",
       "  "
      ],
      "text/plain": [
       "                                               sentence         token  \\\n",
       "0     these include signs of neurologic dysfunction ...  difficulties   \n",
       "1     the lord is not slow concerning his promise, a...      slowness   \n",
       "2     you will be handed over even by parents, broth...       parents   \n",
       "3     sheshan gave his daughter to jarha his servant...          wife   \n",
       "4     you sons of men, how long shall my glory be tu...      dishonor   \n",
       "...                                                 ...           ...   \n",
       "7657  is it any pleasure to the almighty, that you a...      almighty   \n",
       "7658  very important lessons have been drawn from cr...     solutions   \n",
       "7659  firstly, we are concerned about the implicatio...         party   \n",
       "7660  this region contains several genes, including ...     causation   \n",
       "7661  this also comes forth from yahweh of armies, w...       counsel   \n",
       "\n",
       "      complexity  \n",
       "0       0.138889  \n",
       "1       0.303571  \n",
       "2       0.078125  \n",
       "3       0.264706  \n",
       "4       0.250000  \n",
       "...          ...  \n",
       "7657    0.235294  \n",
       "7658    0.285714  \n",
       "7659    0.214286  \n",
       "7660    0.593750  \n",
       "7661    0.367647  \n",
       "\n",
       "[7662 rows x 3 columns]"
      ]
     },
     "execution_count": 3,
     "metadata": {},
     "output_type": "execute_result"
    }
   ],
   "source": [
    "df"
   ]
  },
  {
   "cell_type": "code",
   "execution_count": 4,
   "id": "f1b0c870",
   "metadata": {
    "executionInfo": {
     "elapsed": 8,
     "status": "ok",
     "timestamp": 1671604666930,
     "user": {
      "displayName": "Jian",
      "userId": "10618125268822252053"
     },
     "user_tz": 300
    },
    "id": "f1b0c870"
   },
   "outputs": [],
   "source": [
    "# Used for preprocessing\n",
    "class preprocessing():\n",
    "    def __init__(self, sentences, tokens, complexities):\n",
    "        self.tokens = tokens\n",
    "        self.sentences = sentences\n",
    "        # Convert complexity list to tensor\n",
    "        self.complexity = torch.Tensor(complexities)\n",
    "\n",
    "        self.remove_websites()\n",
    "        self.remove_punctuation()\n",
    "        \n",
    "    # Remove any punctuation                                                  \n",
    "    def remove_punctuation(self):\n",
    "        # Loop through each index and update text in index without punctuation\n",
    "        for index in range(0, len(self.sentences)):\n",
    "            sentence = self.sentences[index]\n",
    "            text = re.sub(r'[^\\w\\s]',\"\", sentence)\n",
    "            self.sentences[index] = text\n",
    "    # Remove website links\n",
    "    def remove_websites(self):\n",
    "        # Loop through each index and update text in index without websites\n",
    "        for index in range(0, len(self.sentences)):\n",
    "            sentence = self.sentences[index]\n",
    "            text = re.sub(r'(http\\:\\/\\/|https\\:\\/\\/)?([a-z0-9][a-z0-9\\-]*\\.)+[a-z][a-z\\-]*', \"\", sentence)\n",
    "            self.sentences[index] = text"
   ]
  },
  {
   "cell_type": "code",
   "execution_count": 5,
   "id": "68dc72da",
   "metadata": {
    "executionInfo": {
     "elapsed": 8,
     "status": "ok",
     "timestamp": 1671604666930,
     "user": {
      "displayName": "Jian",
      "userId": "10618125268822252053"
     },
     "user_tz": 300
    },
    "id": "68dc72da"
   },
   "outputs": [],
   "source": [
    "pp = preprocessing(sentences, tokens, complexities)"
   ]
  },
  {
   "cell_type": "markdown",
   "id": "c37557ab",
   "metadata": {
    "id": "c37557ab"
   },
   "source": [
    "### Tokenizer and Apply Padding"
   ]
  },
  {
   "cell_type": "code",
   "execution_count": 6,
   "id": "075fa243",
   "metadata": {
    "executionInfo": {
     "elapsed": 3,
     "status": "ok",
     "timestamp": 1671604666930,
     "user": {
      "displayName": "Jian",
      "userId": "10618125268822252053"
     },
     "user_tz": 300
    },
    "id": "075fa243"
   },
   "outputs": [],
   "source": [
    "tokenizer = AutoTokenizer.from_pretrained(\"bert-base-uncased\")"
   ]
  },
  {
   "cell_type": "markdown",
   "id": "e7776c6b",
   "metadata": {
    "id": "e7776c6b"
   },
   "source": [
    "#### Sentences"
   ]
  },
  {
   "cell_type": "code",
   "execution_count": 7,
   "id": "44986f9b",
   "metadata": {
    "executionInfo": {
     "elapsed": 1398,
     "status": "ok",
     "timestamp": 1671604668325,
     "user": {
      "displayName": "Jian",
      "userId": "10618125268822252053"
     },
     "user_tz": 300
    },
    "id": "44986f9b"
   },
   "outputs": [],
   "source": [
    "# Create a sentence tokenizer using AutoTokenizer above with min/max length of 85\n",
    "encoded_sentences = tokenizer(pp.sentences, padding=\"max_length\", max_length=85, truncation=True)\n",
    "input_ids_sentences = encoded_sentences['input_ids']\n",
    "attention_mask_sentences = encoded_sentences['attention_mask']"
   ]
  },
  {
   "cell_type": "markdown",
   "id": "8f8db9e1",
   "metadata": {
    "id": "8f8db9e1"
   },
   "source": [
    "#### Token"
   ]
  },
  {
   "cell_type": "code",
   "execution_count": 8,
   "id": "1144fe36",
   "metadata": {
    "executionInfo": {
     "elapsed": 4,
     "status": "ok",
     "timestamp": 1671604668325,
     "user": {
      "displayName": "Jian",
      "userId": "10618125268822252053"
     },
     "user_tz": 300
    },
    "id": "1144fe36"
   },
   "outputs": [],
   "source": [
    "# Create a token tokenizer using AutoTokenizer above with min/max length of 85\n",
    "encoded_tokens = tokenizer(pp.tokens, padding=\"max_length\", max_length=85, truncation=True)\n",
    "input_ids_tokens = encoded_tokens['input_ids']\n",
    "attention_mask_tokens = encoded_tokens['attention_mask']"
   ]
  },
  {
   "cell_type": "markdown",
   "id": "e2380964",
   "metadata": {
    "id": "e2380964"
   },
   "source": [
    "### Create Train & Validation Split and Convert to DataLoaders"
   ]
  },
  {
   "cell_type": "code",
   "execution_count": 9,
   "id": "3fc816d9",
   "metadata": {
    "executionInfo": {
     "elapsed": 4,
     "status": "ok",
     "timestamp": 1671604668325,
     "user": {
      "displayName": "Jian",
      "userId": "10618125268822252053"
     },
     "user_tz": 300
    },
    "id": "3fc816d9"
   },
   "outputs": [],
   "source": [
    "# Used to create dataloaders and tensor datasets\n",
    "def dataloaders(sentences_id, sentence_masks, labels, token_id, token_mask, batch_size, split_size):\n",
    "    \n",
    "    # Determine training set size\n",
    "    train_size = math.floor(len(sentences_id) * (1 - split_size))\n",
    "    \n",
    "    # Create training and validation set sizes for sentence input and masks\n",
    "    train_sent_inputs = torch.tensor(sentences_id[:train_size])\n",
    "    val_sent_inputs = torch.tensor(sentences_id[train_size:])\n",
    "    train_sent_masks = torch.tensor(sentence_masks[:train_size])\n",
    "    val_sent_masks = torch.tensor(sentence_masks[train_size:])\n",
    "    \n",
    "    # Create training and validation set sizes for token input and masks\n",
    "    train_token_inputs = torch.tensor(token_id[:train_size])\n",
    "    val_token_inputs = torch.tensor(token_id[train_size:])\n",
    "    train_token_masks = torch.tensor(token_mask[:train_size])\n",
    "    val_token_masks = torch.tensor(token_mask[train_size:])\n",
    "    \n",
    "    # Create training and validation set sizes for labels\n",
    "    train_labels = torch.tensor(labels[:train_size])\n",
    "    val_labels = torch.tensor(labels[train_size:])\n",
    "    \n",
    "    # Create a tensordataset for training and validation\n",
    "    train_data = TensorDataset(train_sent_inputs, train_sent_masks, train_labels, train_token_inputs, train_token_masks)\n",
    "    val_data = TensorDataset(val_sent_inputs, val_sent_masks, val_labels, val_token_inputs, val_token_masks)\n",
    "    \n",
    "    # Create a dataloader for training and validation with a specific batch size\n",
    "    train_dataloader = DataLoader(dataset = train_data, batch_size = batch_size)\n",
    "    val_dataloader = DataLoader(dataset = val_data, batch_size = batch_size)\n",
    "    return train_dataloader, val_dataloader"
   ]
  },
  {
   "cell_type": "code",
   "execution_count": 10,
   "id": "e03905e2",
   "metadata": {
    "executionInfo": {
     "elapsed": 4,
     "status": "ok",
     "timestamp": 1671604668325,
     "user": {
      "displayName": "Jian",
      "userId": "10618125268822252053"
     },
     "user_tz": 300
    },
    "id": "e03905e2"
   },
   "outputs": [],
   "source": [
    "# Batch size\n",
    "batch_size = 32\n",
    "# training/validation split\n",
    "split_size = 0.10\n",
    "# Create dataloaders and tensordatasets\n",
    "train_dataloader, val_dataloader = dataloaders(input_ids_sentences, attention_mask_sentences, complexities, \n",
    "                                        input_ids_tokens, attention_mask_tokens, batch_size, split_size)"
   ]
  },
  {
   "cell_type": "markdown",
   "id": "ab467c84",
   "metadata": {
    "id": "ab467c84"
   },
   "source": [
    "### Model"
   ]
  },
  {
   "cell_type": "code",
   "execution_count": 11,
   "id": "d507b916",
   "metadata": {
    "executionInfo": {
     "elapsed": 4,
     "status": "ok",
     "timestamp": 1671604668325,
     "user": {
      "displayName": "Jian",
      "userId": "10618125268822252053"
     },
     "user_tz": 300
    },
    "id": "d507b916"
   },
   "outputs": [],
   "source": [
    "# Class to create BERT model\n",
    "class Bert_Model(torch.nn.Module):\n",
    "    def __init__(self, input_dim, config):\n",
    "        super().__init__()\n",
    "        \n",
    "        # BERT models for sentence and token\n",
    "        self.sent_emb = BertModel(config)\n",
    "        self.token_emb = BertModel(config)\n",
    "        \n",
    "        # Linear Layer for BERT Model outputs\n",
    "        self.cls = nn.Linear(2 * 768, 1)\n",
    "        # Sigmoid activation for linear layers\n",
    "        self.sigmoid = nn.Sigmoid()\n",
    "\n",
    "    def forward(self, sent_id, sent_mask, token_id, token_mask):\n",
    "        # BERT for sentence\n",
    "        # Retrieve the prediction BERT for sentence\n",
    "        sent_embed = self.sent_emb(sent_id,sent_mask)[1]\n",
    "        sent_embed = sent_embed.view(sent_embed.shape[0], -1)\n",
    "        # apply 0.20 weight to BERT for Sentence\n",
    "        sent_embed = torch.mul(sent_embed, 0.20)\n",
    "\n",
    "        # BERT for token\n",
    "        # Retrieve the prediction BERT for token\n",
    "        token_embed = self.token_emb(token_id,token_mask)[1]\n",
    "        token_embed = token_embed.view(token_embed.shape[0], -1)\n",
    "        # apply 0.80 weight to BERT for Token\n",
    "        token_embed = torch.mul(token_embed, 0.80)\n",
    "        \n",
    "        # Concat the results from BERT models\n",
    "        last_hidden_state = torch.cat([sent_embed, token_embed], dim=1)\n",
    "        # Apply linear layer\n",
    "        output = self.cls(last_hidden_state)\n",
    "        # Apply sigmoid function\n",
    "        y_pred = self.sigmoid(output)\n",
    "        return y_pred"
   ]
  },
  {
   "cell_type": "code",
   "execution_count": 12,
   "id": "aOT7VlsvLJhY",
   "metadata": {
    "executionInfo": {
     "elapsed": 5,
     "status": "ok",
     "timestamp": 1671604668326,
     "user": {
      "displayName": "Jian",
      "userId": "10618125268822252053"
     },
     "user_tz": 300
    },
    "id": "aOT7VlsvLJhY"
   },
   "outputs": [],
   "source": [
    "# Used for validation loss\n",
    "def evaluate(model, val_dataloader):\n",
    "    model.eval()\n",
    "    total_loss = 0\n",
    "    count = 0\n",
    "    # Loop through each val_dataloader batch\n",
    "    for step, batch in enumerate(val_dataloader):\n",
    "        # Retrieve the data\n",
    "        sent_id, sent_mask, labels, token_id, token_mask = tuple(b.to(device) for b in batch)\n",
    "        # Retrieve prediction\n",
    "        outputs = model(sent_id, sent_mask, token_id, token_mask)\n",
    "        # Retrieve the loss\n",
    "        val_loss = mae_loss(outputs.squeeze(), labels.squeeze())\n",
    "        # Add loss to the total loss\n",
    "        total_loss += val_loss.item()\n",
    "\n",
    "        count += 1\n",
    "\n",
    "        # Print loss for every 100 step\n",
    "        if step % 100 == 0:\n",
    "            print(\"Validation Step: \" + str(step))  \n",
    "            print(\"Validation Loss: \" + str(val_loss.item()))\n",
    "    avg_loss = total_loss/count\n",
    "    return val_loss, avg_loss"
   ]
  },
  {
   "cell_type": "code",
   "execution_count": 13,
   "id": "yayIK0sdg5l8",
   "metadata": {
    "executionInfo": {
     "elapsed": 4,
     "status": "ok",
     "timestamp": 1671604668326,
     "user": {
      "displayName": "Jian",
      "userId": "10618125268822252053"
     },
     "user_tz": 300
    },
    "id": "yayIK0sdg5l8"
   },
   "outputs": [],
   "source": [
    "# Used to find MAE loss\n",
    "def mae_loss(outputs, labels):\n",
    "    subtract = torch.subtract(outputs, labels)\n",
    "    absolute_val = torch.abs(subtract)\n",
    "    sum_all = torch.sum(absolute_val)\n",
    "    return torch.div(sum_all, outputs.shape[0])"
   ]
  },
  {
   "cell_type": "code",
   "execution_count": 14,
   "id": "RuftbkGuLK1y",
   "metadata": {
    "executionInfo": {
     "elapsed": 4,
     "status": "ok",
     "timestamp": 1671604668326,
     "user": {
      "displayName": "Jian",
      "userId": "10618125268822252053"
     },
     "user_tz": 300
    },
    "id": "RuftbkGuLK1y"
   },
   "outputs": [],
   "source": [
    "# Used to train model\n",
    "def train(model, optimizer, scheduler, epochs, train_dataloader, val_dataloader, device):\n",
    "    # list to hold final val and training losses\n",
    "    avg_val_losses = []\n",
    "    avg_train_losses = []\n",
    "    print(\"---------------------------------------------------------------------------------------------------\")\n",
    "    # Go through the epochs\n",
    "    for epoch in range(epochs):\n",
    "        print(\"Epoch \" + str(epoch + 1))\n",
    "        print(\"---------------------------------------------------------------------------------------------------\")\n",
    "        model.train()\n",
    "        total_loss = 0\n",
    "        count = 0\n",
    "        # Go through each batch\n",
    "        for step, batch in enumerate(train_dataloader): \n",
    "            # Retrieve the data for each batch\n",
    "            sent_id, sent_mask, labels, token_id, token_mask = tuple(b.to(device) for b in batch)\n",
    "            model.zero_grad()\n",
    "            # Retrieve prediction \n",
    "            outputs = model(sent_id, sent_mask, token_id, token_mask)\n",
    "            # Retrieve loss value\n",
    "            loss = mae_loss(outputs.squeeze(), labels.squeeze())\n",
    "            # Add to total loss\n",
    "            total_loss += loss.item()\n",
    "            \n",
    "            # Update gradient and optimizer\n",
    "            optimizer.zero_grad()\n",
    "            loss.backward()\n",
    "            optimizer.step()\n",
    "            scheduler.step()\n",
    "\n",
    "            count += 1\n",
    "            \n",
    "            # Print loss for every 100 step\n",
    "            if step % 100 == 0:\n",
    "                print(\"Train Step: \" + str(step))  \n",
    "                print(\"Train Loss: \" + str(loss.item()))\n",
    "                \n",
    "        print(\"Final Step Loss: \"  + str(loss.item()))\n",
    "        print()\n",
    "        \n",
    "        # Find validation loss\n",
    "        val_loss, avg_val_loss = evaluate(model, val_dataloader)\n",
    "        \n",
    "        print(\"Final Validation Loss: \" + str(val_loss.item()))\n",
    "        print()\n",
    "        print('Average Loss: ' + str(total_loss/count))\n",
    "        print(\"Average Validation Loss: \" + str(avg_val_loss))\n",
    "        print(\"---------------------------------------------------------------------------------------------------\")\n",
    "        avg_val_losses.append(avg_val_loss)\n",
    "        avg_train_losses.append(total_loss/count)\n",
    "    return model, avg_val_losses, avg_train_losses"
   ]
  },
  {
   "cell_type": "code",
   "execution_count": 15,
   "id": "61c548db",
   "metadata": {
    "executionInfo": {
     "elapsed": 3560,
     "status": "ok",
     "timestamp": 1671604671883,
     "user": {
      "displayName": "Jian",
      "userId": "10618125268822252053"
     },
     "user_tz": 300
    },
    "id": "61c548db"
   },
   "outputs": [],
   "source": [
    "# Configuration for BERT Model\n",
    "config = BertConfig(max_position_embeddings = 85, hidden_act = 'relu', hidden_dropout_prob = 0.15, attention_probs_dropout_prob = 0.15, classifier_dropout = 0.25)\n",
    "# Create BERT Model object\n",
    "model = Bert_Model(768, config)"
   ]
  },
  {
   "cell_type": "code",
   "execution_count": 16,
   "id": "4e47096c",
   "metadata": {
    "executionInfo": {
     "elapsed": 556,
     "status": "ok",
     "timestamp": 1671604672437,
     "user": {
      "displayName": "Jian",
      "userId": "10618125268822252053"
     },
     "user_tz": 300
    },
    "id": "4e47096c"
   },
   "outputs": [],
   "source": [
    "# Initalize Optimizer\n",
    "optimizer = AdamW(model.parameters(), lr=5e-6, eps=1e-8)"
   ]
  },
  {
   "cell_type": "code",
   "execution_count": 17,
   "id": "85bb667d",
   "metadata": {
    "colab": {
     "base_uri": "https://localhost:8080/"
    },
    "executionInfo": {
     "elapsed": 975913,
     "status": "ok",
     "timestamp": 1671605648349,
     "user": {
      "displayName": "Jian",
      "userId": "10618125268822252053"
     },
     "user_tz": 300
    },
    "id": "85bb667d",
    "outputId": "59d62937-d8a7-4b45-81d6-3bc27009309f"
   },
   "outputs": [
    {
     "name": "stdout",
     "output_type": "stream",
     "text": [
      "---------------------------------------------------------------------------------------------------\n",
      "Epoch 1\n",
      "---------------------------------------------------------------------------------------------------\n",
      "Train Step: 0\n",
      "Train Loss: 0.2379750907421112\n",
      "Train Step: 100\n",
      "Train Loss: 0.08061496168375015\n",
      "Train Step: 200\n",
      "Train Loss: 0.08142463862895966\n",
      "Final Step Loss: 0.09780245274305344\n",
      "\n",
      "Validation Step: 0\n",
      "Validation Loss: 0.07347598671913147\n",
      "Final Validation Loss: 0.11760220676660538\n",
      "\n",
      "Average Loss: 0.09359003679343948\n",
      "Average Validation Loss: 0.09494904335588217\n",
      "---------------------------------------------------------------------------------------------------\n",
      "Epoch 2\n",
      "---------------------------------------------------------------------------------------------------\n",
      "Train Step: 0\n",
      "Train Loss: 0.07802407443523407\n",
      "Train Step: 100\n",
      "Train Loss: 0.08826091885566711\n",
      "Train Step: 200\n",
      "Train Loss: 0.08087821304798126\n",
      "Final Step Loss: 0.0945693850517273\n",
      "\n",
      "Validation Step: 0\n",
      "Validation Loss: 0.071431465446949\n",
      "Final Validation Loss: 0.10953094065189362\n",
      "\n",
      "Average Loss: 0.08637954044604192\n",
      "Average Validation Loss: 0.08732905052602291\n",
      "---------------------------------------------------------------------------------------------------\n",
      "Epoch 3\n",
      "---------------------------------------------------------------------------------------------------\n",
      "Train Step: 0\n",
      "Train Loss: 0.07397577911615372\n",
      "Train Step: 100\n",
      "Train Loss: 0.08830822259187698\n",
      "Train Step: 200\n",
      "Train Loss: 0.07655707746744156\n",
      "Final Step Loss: 0.0863090306520462\n",
      "\n",
      "Validation Step: 0\n",
      "Validation Loss: 0.07350151240825653\n",
      "Final Validation Loss: 0.10262894630432129\n",
      "\n",
      "Average Loss: 0.0850041697871078\n",
      "Average Validation Loss: 0.08163236873224378\n",
      "---------------------------------------------------------------------------------------------------\n",
      "Epoch 4\n",
      "---------------------------------------------------------------------------------------------------\n",
      "Train Step: 0\n",
      "Train Loss: 0.07555016875267029\n",
      "Train Step: 100\n",
      "Train Loss: 0.07982540875673294\n",
      "Train Step: 200\n",
      "Train Loss: 0.07895401865243912\n",
      "Final Step Loss: 0.0929596945643425\n",
      "\n",
      "Validation Step: 0\n",
      "Validation Loss: 0.07414541393518448\n",
      "Final Validation Loss: 0.10151473432779312\n",
      "\n",
      "Average Loss: 0.08385896698261301\n",
      "Average Validation Loss: 0.08234069465349118\n",
      "---------------------------------------------------------------------------------------------------\n",
      "Epoch 5\n",
      "---------------------------------------------------------------------------------------------------\n",
      "Train Step: 0\n",
      "Train Loss: 0.07645396888256073\n",
      "Train Step: 100\n",
      "Train Loss: 0.07391217350959778\n",
      "Train Step: 200\n",
      "Train Loss: 0.073907770216465\n",
      "Final Step Loss: 0.10233224928379059\n",
      "\n",
      "Validation Step: 0\n",
      "Validation Loss: 0.07614563405513763\n",
      "Final Validation Loss: 0.10072316974401474\n",
      "\n",
      "Average Loss: 0.08356131752952933\n",
      "Average Validation Loss: 0.08457212926199038\n",
      "---------------------------------------------------------------------------------------------------\n"
     ]
    }
   ],
   "source": [
    "epochs = 5\n",
    "total_steps = len(train_dataloader) * epochs\n",
    "scheduler = get_linear_schedule_with_warmup(optimizer, num_warmup_steps=0, num_training_steps=total_steps)\n",
    "# Set as CUDA For now\n",
    "device = torch.device(\"cuda\")\n",
    "model.to(device)\n",
    "# Train model and retrieve results\n",
    "final_model, val_losses, train_losses = train(model, optimizer, scheduler, epochs, train_dataloader, val_dataloader, device)"
   ]
  },
  {
   "cell_type": "code",
   "execution_count": 18,
   "id": "0yKX7WVaILkA",
   "metadata": {
    "colab": {
     "base_uri": "https://localhost:8080/",
     "height": 279
    },
    "executionInfo": {
     "elapsed": 10,
     "status": "ok",
     "timestamp": 1671605648349,
     "user": {
      "displayName": "Jian",
      "userId": "10618125268822252053"
     },
     "user_tz": 300
    },
    "id": "0yKX7WVaILkA",
    "outputId": "3663984f-975c-4518-a7ed-dd71fb089325"
   },
   "outputs": [
    {
     "data": {
      "image/png": "[encoded data removed]",
      "text/plain": [
       "<Figure size 432x288 with 1 Axes>"
      ]
     },
     "metadata": {
      "needs_background": "light"
     },
     "output_type": "display_data"
    }
   ],
   "source": [
    "%matplotlib inline\n",
    "\n",
    "x = np.arange(1, len(train_losses) + 1)\n",
    "plt.plot(x, train_losses, label='Train loss')\n",
    "plt.plot(x, val_losses, label='Valid loss')\n",
    "plt.legend()\n",
    "plt.ylabel('Loss')\n",
    "plt.xlabel('Epoch')\n",
    "plt.xticks(x)\n",
    "plt.show()"
   ]
  },
  {
   "cell_type": "code",
   "execution_count": 19,
   "id": "d5EoVhTYINCZ",
   "metadata": {
    "colab": {
     "base_uri": "https://localhost:8080/"
    },
    "executionInfo": {
     "elapsed": 241,
     "status": "ok",
     "timestamp": 1671605648588,
     "user": {
      "displayName": "Jian",
      "userId": "10618125268822252053"
     },
     "user_tz": 300
    },
    "id": "d5EoVhTYINCZ",
    "outputId": "67caf201-51ea-4af0-c2ab-4b81c2502c3a"
   },
   "outputs": [
    {
     "data": {
      "text/plain": [
       "================================================================================\n",
       "Layer (type:depth-idx)                                  Param #\n",
       "================================================================================\n",
       "Bert_Model                                              --\n",
       "├─BertModel: 1-1                                        --\n",
       "│    └─BertEmbeddings: 2-1                              --\n",
       "│    │    └─Embedding: 3-1                              23,440,896\n",
       "│    │    └─Embedding: 3-2                              65,280\n",
       "│    │    └─Embedding: 3-3                              1,536\n",
       "│    │    └─LayerNorm: 3-4                              1,536\n",
       "│    │    └─Dropout: 3-5                                --\n",
       "│    └─BertEncoder: 2-2                                 --\n",
       "│    │    └─ModuleList: 3-6                             85,054,464\n",
       "│    └─BertPooler: 2-3                                  --\n",
       "│    │    └─Linear: 3-7                                 590,592\n",
       "│    │    └─Tanh: 3-8                                   --\n",
       "├─BertModel: 1-2                                        --\n",
       "│    └─BertEmbeddings: 2-4                              --\n",
       "│    │    └─Embedding: 3-9                              23,440,896\n",
       "│    │    └─Embedding: 3-10                             65,280\n",
       "│    │    └─Embedding: 3-11                             1,536\n",
       "│    │    └─LayerNorm: 3-12                             1,536\n",
       "│    │    └─Dropout: 3-13                               --\n",
       "│    └─BertEncoder: 2-5                                 --\n",
       "│    │    └─ModuleList: 3-14                            85,054,464\n",
       "│    └─BertPooler: 2-6                                  --\n",
       "│    │    └─Linear: 3-15                                590,592\n",
       "│    │    └─Tanh: 3-16                                  --\n",
       "├─Linear: 1-3                                           1,537\n",
       "├─Sigmoid: 1-4                                          --\n",
       "================================================================================\n",
       "Total params: 218,310,145\n",
       "Trainable params: 218,310,145\n",
       "Non-trainable params: 0\n",
       "================================================================================"
      ]
     },
     "execution_count": 19,
     "metadata": {},
     "output_type": "execute_result"
    }
   ],
   "source": [
    "summary(model)"
   ]
  },
  {
   "cell_type": "code",
   "execution_count": 20,
   "id": "nI7muGv-IN3n",
   "metadata": {
    "colab": {
     "base_uri": "https://localhost:8080/"
    },
    "executionInfo": {
     "elapsed": 50800,
     "status": "ok",
     "timestamp": 1671605699386,
     "user": {
      "displayName": "Jian",
      "userId": "10618125268822252053"
     },
     "user_tz": 300
    },
    "id": "nI7muGv-IN3n",
    "outputId": "4be90bfe-9b25-41e5-eb8d-6d337cb1dce2"
   },
   "outputs": [
    {
     "name": "stdout",
     "output_type": "stream",
     "text": [
      "Mounted at /content/drive\n",
      "Sucessfully Saved Model Parameters\n"
     ]
    }
   ],
   "source": [
    "from google.colab import drive\n",
    "drive.mount('/content/drive')\n",
    "\n",
    "# Save model parameters\n",
    "torch.save(model.state_dict(), '/content/drive/MyDrive/NLPProject/model.pth')\n",
    "print(\"Sucessfully Saved Model Parameters\")"
   ]
  }
 ],
 "metadata": {
  "accelerator": "GPU",
  "colab": {
   "provenance": []
  },
  "gpuClass": "standard",
  "kernelspec": {
   "display_name": "Python 3 (ipykernel)",
   "language": "python",
   "name": "python3"
  },
  "language_info": {
   "codemirror_mode": {
    "name": "ipython",
    "version": 3
   },
   "file_extension": ".py",
   "mimetype": "text/x-python",
   "name": "python",
   "nbconvert_exporter": "python",
   "pygments_lexer": "ipython3",
   "version": "3.9.15"
  }
 },
 "nbformat": 4,
 "nbformat_minor": 5
}
